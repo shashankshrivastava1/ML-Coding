{
 "cells": [
  {
   "cell_type": "code",
   "execution_count": 4,
   "id": "2dc67fc7-ed67-4df3-baee-a2887d833b5f",
   "metadata": {},
   "outputs": [],
   "source": [
    "import numpy as np\n"
   ]
  },
  {
   "cell_type": "code",
   "execution_count": null,
   "id": "b13f12a2-2b73-41d9-921e-4487f9c08fd6",
   "metadata": {},
   "outputs": [],
   "source": []
  },
  {
   "cell_type": "code",
   "execution_count": 2,
   "id": "52d87920-b672-41ca-8ea6-e535ad63df96",
   "metadata": {
    "scrolled": true
   },
   "outputs": [
    {
     "name": "stdout",
     "output_type": "stream",
     "text": [
      "[[-1  3  5]\n",
      " [ 1 32 22]\n",
      " [ 3  2  1]]\n"
     ]
    }
   ],
   "source": [
    "k =np.array([[1,4,6],[3,33,23],[5,3,2]])\n",
    "mean = np.argmax(k,axis =0)\n",
    "# print(mean)\n",
    "print(k-mean)"
   ]
  },
  {
   "cell_type": "code",
   "execution_count": 3,
   "id": "d1fc8316-82da-429a-b4c5-f2595535ad0b",
   "metadata": {},
   "outputs": [
    {
     "data": {
      "text/plain": [
       "array([[ 17.5,  59. ,  42.5],\n",
       "       [ 59. , 557. , 394.5],\n",
       "       [ 42.5, 394.5, 284.5]])"
      ]
     },
     "execution_count": 3,
     "metadata": {},
     "output_type": "execute_result"
    }
   ],
   "source": [
    "Cx = 1/(k.shape[0]-1) * k.T @ k\n",
    "Cx"
   ]
  },
  {
   "cell_type": "code",
   "execution_count": 4,
   "id": "e5419523-0ef9-41ea-b1ea-861af4d852bc",
   "metadata": {},
   "outputs": [
    {
     "data": {
      "text/plain": [
       "array([[ 17.5,  59. ,  42.5],\n",
       "       [ 59. , 557. , 394.5],\n",
       "       [ 42.5, 394.5, 284.5]])"
      ]
     },
     "execution_count": 4,
     "metadata": {},
     "output_type": "execute_result"
    }
   ],
   "source": [
    "1/(3-1) * np.dot(k.T,k) #/ np.mean(k,axis=0)"
   ]
  },
  {
   "cell_type": "code",
   "execution_count": 5,
   "id": "297e54b6-8ed5-46db-8501-96f41dee10f8",
   "metadata": {},
   "outputs": [
    {
     "data": {
      "text/plain": [
       "array([[  4.        ,  -1.        ,  -4.        ],\n",
       "       [ -1.        , 290.33333333, 187.83333333],\n",
       "       [ -4.        , 187.83333333, 124.33333333]])"
      ]
     },
     "execution_count": 5,
     "metadata": {},
     "output_type": "execute_result"
    }
   ],
   "source": [
    "np.cov(k,rowvar=False,ddof=1)"
   ]
  },
  {
   "cell_type": "code",
   "execution_count": 6,
   "id": "f2f3a886-1199-40d8-ac5a-c055185f3ebb",
   "metadata": {},
   "outputs": [
    {
     "data": {
      "text/plain": [
       "[array([1, 2, 3]), array([4, 5]), array([6, 7]), array([8, 9])]"
      ]
     },
     "execution_count": 6,
     "metadata": {},
     "output_type": "execute_result"
    }
   ],
   "source": [
    "np.array_split(np.array([1,2,3,4,5,6,7,8,9]) , 4)"
   ]
  },
  {
   "cell_type": "code",
   "execution_count": 5,
   "id": "5a2eacca-3cd4-4edb-a2a0-38caa0dac3dd",
   "metadata": {},
   "outputs": [],
   "source": [
    "X = np.random.randn(100,5)"
   ]
  },
  {
   "cell_type": "code",
   "execution_count": 6,
   "id": "5d3abb2d-403e-4f94-a2e8-ca56990fc4c0",
   "metadata": {},
   "outputs": [
    {
     "data": {
      "text/plain": [
       "(5, 5)"
      ]
     },
     "execution_count": 6,
     "metadata": {},
     "output_type": "execute_result"
    }
   ],
   "source": [
    "cov = np.cov(X.T)\n",
    "cov.shape"
   ]
  },
  {
   "cell_type": "code",
   "execution_count": 15,
   "id": "b9baf5cb-7a60-4a84-9eb0-f7beecc17994",
   "metadata": {},
   "outputs": [
    {
     "name": "stdout",
     "output_type": "stream",
     "text": [
      "CPU times: total: 0 ns\n",
      "Wall time: 1.01 ms\n",
      "[2.43826987 2.30209631 2.18205328 2.07859905 1.91523929 1.78083849\n",
      " 1.72417948 1.65152406 1.62717096 1.52997928 1.49643572 1.35545535\n",
      " 1.3214189  1.27106267 1.18430686 1.11085457 1.03144325 0.99257276\n",
      " 0.1670253  0.17610448 0.92223606 0.87868656 0.23469684 0.27364853\n",
      " 0.26776627 0.31172446 0.82416924 0.35923226 0.77291557 0.76087666\n",
      " 0.40932659 0.41795422 0.46212127 0.69344991 0.66066934 0.50787839\n",
      " 0.60797245 0.59361115 0.55245649 0.55601821]\n",
      "(40, 40)\n",
      "(2, 40)\n",
      "CPU times: total: 0 ns\n",
      "Wall time: 6.54 ms\n",
      "CPU times: total: 0 ns\n",
      "Wall time: 0 ns\n"
     ]
    },
    {
     "data": {
      "text/plain": [
       "''"
      ]
     },
     "execution_count": 15,
     "metadata": {},
     "output_type": "execute_result"
    }
   ],
   "source": [
    "class PCA:\n",
    "    def __init__(self,n_component):\n",
    "        self.mean=None\n",
    "        self.n_component = n_component\n",
    "        self.components = None\n",
    "    def fit(self,x):\n",
    "        #get mean\n",
    "        self.mean = np.mean(x,axis=0)\n",
    "        x = (x-self.mean)/ np.std(x,axis =0)\n",
    "        cov = np.cov(x.T)\n",
    "        e_val,e_vector = np.linalg.eig(cov)\n",
    "        print(e_val)\n",
    "        idx = np.argsort(e_val)[::-1]\n",
    "        e_vector = e_vector[:,idx]\n",
    "        print(e_vector.shape)\n",
    "        self.component = e_vector[:self.n_component]\n",
    "        print(self.component.shape)\n",
    "    def transform(self,x):\n",
    "        x = x-self.mean\n",
    "        return np.dot(x,self.component.T)\n",
    "\n",
    "%time  pca = PCA(2)        \n",
    "\n",
    "%time pca.fit(X)\n",
    "%time pca.transform(X)\n",
    ","
   ]
  },
  {
   "cell_type": "code",
   "execution_count": 11,
   "id": "36c42023-4471-4e87-a5da-b76f5bcc3fb3",
   "metadata": {},
   "outputs": [
    {
     "data": {
      "text/plain": [
       "''"
      ]
     },
     "execution_count": 11,
     "metadata": {},
     "output_type": "execute_result"
    }
   ],
   "source": [
    "X = np.random.randn(100,40)\n",
    "class PCA:\n",
    "    def __init__(self,n_component):\n",
    "        self.mean = None\n",
    "        self.n_component = n_component\n",
    "        self.components = None\n",
    "\n",
    "    def fit(self,X):\n",
    "        self.mean = X.mean(axis=0)\n",
    "        X = X - self.mean\n",
    "        X = X/ np.std(X,axis=0)\n",
    "\n",
    "        cov = np.cov(X.T)\n",
    "\n",
    "        e_val,e_vectors =np.linalg.eig(cov)\n",
    "\n",
    "        idx = np.argsort(e_val)[::-1]\n",
    "\n",
    "        e_vectors = e_vectors[:,idx]\n",
    "\n",
    "        self.components = e_vectors[:,:self.n_component]\n",
    "        return self.components\n",
    "\n",
    "    def transform(self,X):\n",
    "        X = X-self.mean\n",
    "        return np.dot(X,self.components)\n",
    "x = np.random.randn(100,8)        \n",
    "pca = PCA(2)        \n",
    "pca.fit(x)\n",
    "pca.transform(x)\n",
    ","
   ]
  },
  {
   "cell_type": "code",
   "execution_count": null,
   "id": "5aecf2b4-e07c-4138-bbbc-afbc5386c9ad",
   "metadata": {},
   "outputs": [],
   "source": []
  }
 ],
 "metadata": {
  "kernelspec": {
   "display_name": "mtl_intent",
   "language": "python",
   "name": "mtl_intent"
  },
  "language_info": {
   "codemirror_mode": {
    "name": "ipython",
    "version": 3
   },
   "file_extension": ".py",
   "mimetype": "text/x-python",
   "name": "python",
   "nbconvert_exporter": "python",
   "pygments_lexer": "ipython3",
   "version": "3.9.7"
  },
  "widgets": {
   "application/vnd.jupyter.widget-state+json": {
    "state": {},
    "version_major": 2,
    "version_minor": 0
   }
  }
 },
 "nbformat": 4,
 "nbformat_minor": 5
}
