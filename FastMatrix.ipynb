{
 "cells": [
  {
   "cell_type": "code",
   "execution_count": 1,
   "id": "7ac7b7d6-7dd6-4c66-a1dd-7e2ad14b9816",
   "metadata": {},
   "outputs": [],
   "source": [
    "import numpy as np"
   ]
  },
  {
   "cell_type": "code",
   "execution_count": 30,
   "id": "a8940ee6-5e59-4268-b21b-b7d0a55a6c11",
   "metadata": {},
   "outputs": [
    {
     "name": "stdout",
     "output_type": "stream",
     "text": [
      "[[58, 64, 30], [139, 154, 78], [415, 454, 144]]\n",
      "[[ 58  64  30]\n",
      " [139 154  78]\n",
      " [415 454 144]]\n"
     ]
    }
   ],
   "source": [
    "A = [[1, 2, 3], [4, 5, 6],[1, 5,33]]\n",
    "B = [[7, 8,5], [9, 10,8], [11, 12,3]]\n",
    "\n",
    "def matrix_multiply(A, B):\n",
    "    result = [[sum(a * b for a, b in zip(A_row, B_col)) for B_col in zip(*B)] for A_row in A]\n",
    "    return result\n",
    "\n",
    "C = matrix_multiply(A, B)\n",
    "print(C)\n",
    "a,b = np.array(A),np.array(B)\n",
    "print(np.matmul(a,b))"
   ]
  },
  {
   "cell_type": "code",
   "execution_count": null,
   "id": "43c594df-c85d-4242-a4d0-eb3ca24e2e57",
   "metadata": {},
   "outputs": [],
   "source": []
  },
  {
   "cell_type": "code",
   "execution_count": 36,
   "id": "987f89a0-a8f0-4ba3-ac6c-2f7303ab7b17",
   "metadata": {},
   "outputs": [
    {
     "name": "stdout",
     "output_type": "stream",
     "text": [
      "[[0, 0, 0], [0, 0, 0], [0, 0, 0]]\n",
      "[[58, 64, 30], [139, 154, 78], [415, 454, 144]]\n",
      "[[ 58  64  30]\n",
      " [139 154  78]\n",
      " [415 454 144]]\n"
     ]
    }
   ],
   "source": [
    "#normal matrix multiplication\n",
    "assert len(A[1]) == len(B), \"Dimension mismatch: (\"+str(len(A))+\",\"+str(len(A[0]))+\"), (\" +str(len(B))+\",\"+str(len(B[0]))+\")\"\n",
    "# result = [[0]*len(A)]*len(B[0])\n",
    "result = [[0 for _ in range(len(B[0]))] for _ in range(len(A))]\n",
    "print(result)\n",
    "for i in range(len(A)):\n",
    "    for j in range(len(B[0])):\n",
    "        for k in range(len(B)):\n",
    "            result[i][j] +=  A[i][k] * B[k][j]\n",
    "print(result)            \n",
    "a,b = np.array(A),np.array(B)\n",
    "print(np.matmul(a,b))    "
   ]
  },
  {
   "cell_type": "code",
   "execution_count": 39,
   "id": "c7e5c8c7-2c2d-4e02-ad17-bc07eef12944",
   "metadata": {},
   "outputs": [
    {
     "name": "stdout",
     "output_type": "stream",
     "text": [
      "(100, 100)\n"
     ]
    }
   ],
   "source": [
    "import numpy as np\n",
    "\n",
    "def block_multiply(A, B, block_size):\n",
    "    assert A.shape == B.shape\n",
    "    assert A.shape[0] % block_size == 0\n",
    "\n",
    "    n = A.shape[0]\n",
    "    C = np.zeros((n, n))\n",
    "\n",
    "    for i in range(0, n, block_size):\n",
    "        for j in range(0, n, block_size):\n",
    "            for k in range(0, n, block_size):\n",
    "                C[i:i+block_size, j:j+block_size] += np.dot(A[i:i+block_size, k:k+block_size], \n",
    "                                                            B[k:k+block_size, j:j+block_size])\n",
    "    return C\n",
    "\n",
    "A = np.random.rand(100, 100)\n",
    "B = np.random.rand(100, 100)\n",
    "block_size = 25\n",
    "\n",
    "C = block_multiply(A, B, block_size)\n",
    "print(C.shape)"
   ]
  },
  {
   "cell_type": "code",
   "execution_count": 50,
   "id": "82356c70-3cda-47a8-b360-94c4e7a60694",
   "metadata": {},
   "outputs": [],
   "source": [
    "# A[:5,:2]"
   ]
  },
  {
   "cell_type": "code",
   "execution_count": null,
   "id": "47d7fc76-4bce-495e-affd-1802170861d6",
   "metadata": {},
   "outputs": [],
   "source": [
    "import numpy as np\n",
    "import multiprocessing\n",
    "\n",
    "def matrix_multiply_worker(A_chunk, B, C_shape, C_chunk_start):\n",
    "    C_chunk = np.dot(A_chunk, B)\n",
    "    return (C_chunk_start, C_chunk)\n",
    "\n",
    "def parallel_matrix_multiply(A, B, num_processes=None):\n",
    "    num_rows = A.shape[0]\n",
    "    C = np.zeros((num_rows, B.shape[1]))\n",
    "    chunk_size = (num_rows + num_processes - 1) // num_processes\n",
    "\n",
    "    with multiprocessing.Pool(processes=num_processes) as pool:\n",
    "        results = [pool.apply_async(matrix_multiply_worker, \n",
    "                                    args=(A[i:i + chunk_size], B, C.shape, i)) \n",
    "                                    for i in range(0, num_rows, chunk_size)]\n",
    "\n",
    "        for result in results:\n",
    "            C_chunk_start, C_chunk = result.get()\n",
    "            C[C_chunk_start:C_chunk_start + C_chunk.shape[0], :] = C_chunk\n",
    "\n",
    "    return C\n",
    "\n",
    "A = np.random.rand(100, 100)\n",
    "B = np.random.rand(100, 100)\n",
    "\n",
    "num_processes = 4\n",
    "\n",
    "%time C = parallel_matrix_multiply(A, B, num_processes)\n",
    "print(C)"
   ]
  },
  {
   "cell_type": "code",
   "execution_count": 14,
   "id": "1b7dde0f-1445-40bf-a2fd-1a7d1a77c338",
   "metadata": {},
   "outputs": [
    {
     "name": "stdout",
     "output_type": "stream",
     "text": [
      "CPU times: total: 0 ns\n",
      "Wall time: 12.2 ms\n",
      "CPU times: total: 0 ns\n",
      "Wall time: 2 ms\n",
      "CPU times: total: 0 ns\n",
      "Wall time: 0 ns\n"
     ]
    }
   ],
   "source": [
    "a = np.random.rand(30,40)\n",
    "b = np.random.rand(40,30)\n",
    "\n",
    "assert a.shape[-1] == b.shape[0]\n",
    "\n",
    "def brute_force(a,b):\n",
    "    result = np.zeros((a.shape[0],b.shape[1]))\n",
    "    for i in range(a.shape[0]):\n",
    "        for j in range(b.shape[1]):\n",
    "            for k in range(b.shape[0]):\n",
    "                result[i,j] += a[i,k] * b[k,j]\n",
    "    return result\n",
    "\n",
    "%time result = brute_force(a,b)\n",
    "def vector_computation(a,b):\n",
    "    result = np.zeros((a.shape[0],b.shape[1]))\n",
    "    for i in range(a.shape[0]):\n",
    "        for j in range(b.shape[1]):\n",
    "            # for k in range(b.shape[0]):\n",
    "                result[i,j] = np.dot(a[i],b[:,j])\n",
    "    return result\n",
    "%time result = vector_computation(a,b)\n",
    "\n",
    "%time a = np.matmul(a,b)"
   ]
  },
  {
   "cell_type": "code",
   "execution_count": null,
   "id": "5e5deb6d-a824-4a07-b30e-40b2ae10a1dc",
   "metadata": {},
   "outputs": [],
   "source": []
  }
 ],
 "metadata": {
  "kernelspec": {
   "display_name": "mtl_intent",
   "language": "python",
   "name": "mtl_intent"
  },
  "language_info": {
   "codemirror_mode": {
    "name": "ipython",
    "version": 3
   },
   "file_extension": ".py",
   "mimetype": "text/x-python",
   "name": "python",
   "nbconvert_exporter": "python",
   "pygments_lexer": "ipython3",
   "version": "3.9.7"
  },
  "widgets": {
   "application/vnd.jupyter.widget-state+json": {
    "state": {},
    "version_major": 2,
    "version_minor": 0
   }
  }
 },
 "nbformat": 4,
 "nbformat_minor": 5
}
