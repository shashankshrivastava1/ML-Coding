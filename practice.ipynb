{
 "cells": [
  {
   "cell_type": "code",
   "execution_count": 7,
   "id": "1c3e3bb3-0d53-4b09-908c-beb309863e82",
   "metadata": {},
   "outputs": [
    {
     "name": "stdout",
     "output_type": "stream",
     "text": [
      "(8, 4)\n"
     ]
    },
    {
     "data": {
      "text/plain": [
       "(100, 4)"
      ]
     },
     "execution_count": 7,
     "metadata": {},
     "output_type": "execute_result"
    }
   ],
   "source": [
    "#pca\n",
    "import numpy as np\n",
    "\n",
    "x = np.random.randn(100,8)\n",
    "\n",
    "class PCA:\n",
    "    def __init__(self,n_component,X):\n",
    "        self.x = X\n",
    "        self.mean = X.mean(axis=0)\n",
    "        self.n_component = n_component\n",
    "        self.eigen_vector =None\n",
    "        self.components = None\n",
    "\n",
    "    def fit(self):\n",
    "        self.x = self.x - self.mean\n",
    "        self.x = self.x / np.std(self.x, axis =0)\n",
    "\n",
    "        #covariance\n",
    "        cov = np.cov(self.x.T)\n",
    "\n",
    "        e_val, e_vect =  np.linalg.eig(cov)\n",
    "\n",
    "        idx  = np.argsort(e_val)[::-1]\n",
    "        \n",
    "        e_val = e_val[idx]\n",
    "        e_vect = e_vect[:,idx]\n",
    "\n",
    "        self.eigen_vector = e_vect\n",
    "        self.components = e_vect[:,:self.n_component]\n",
    "        print(self.components.shape)\n",
    "\n",
    "    def transform(self):\n",
    "        # print(self.x.shape,self.components.shape)\n",
    "        return np.matmul(self.x,self.components)\n",
    "pca = PCA(4,x)\n",
    "pca.fit()\n",
    "pca.transform().shape\n",
    "\n",
    "        \n",
    "        \n"
   ]
  },
  {
   "cell_type": "code",
   "execution_count": null,
   "id": "84b5e139-aedd-404e-a688-8503db8f3bb9",
   "metadata": {},
   "outputs": [],
   "source": []
  }
 ],
 "metadata": {
  "kernelspec": {
   "display_name": "mtl_intent",
   "language": "python",
   "name": "mtl_intent"
  },
  "language_info": {
   "codemirror_mode": {
    "name": "ipython",
    "version": 3
   },
   "file_extension": ".py",
   "mimetype": "text/x-python",
   "name": "python",
   "nbconvert_exporter": "python",
   "pygments_lexer": "ipython3",
   "version": "3.9.7"
  },
  "widgets": {
   "application/vnd.jupyter.widget-state+json": {
    "state": {},
    "version_major": 2,
    "version_minor": 0
   }
  }
 },
 "nbformat": 4,
 "nbformat_minor": 5
}
