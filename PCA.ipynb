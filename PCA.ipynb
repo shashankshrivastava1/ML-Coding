{
 "cells": [
  {
   "cell_type": "code",
   "execution_count": 1,
   "id": "fbbc1dce-55be-4ded-8f1e-724fb20f869a",
   "metadata": {},
   "outputs": [],
   "source": [
    "import numpy as np"
   ]
  },
  {
   "cell_type": "code",
   "execution_count": 50,
   "id": "3b49ba1a-ba52-4064-83ea-194250f8f34a",
   "metadata": {
    "scrolled": true
   },
   "outputs": [
    {
     "name": "stdout",
     "output_type": "stream",
     "text": [
      "(1, 5) (5, 5)\n",
      "[[-3.79899948]\n",
      " [-1.84528668]\n",
      " [ 0.10842613]\n",
      " [ 2.06213893]\n",
      " [ 4.01585173]]\n"
     ]
    },
    {
     "data": {
      "text/plain": [
       "array([[-3.79899948],\n",
       "       [-1.84528668],\n",
       "       [ 0.10842613],\n",
       "       [ 2.06213893],\n",
       "       [ 4.01585173]])"
      ]
     },
     "execution_count": 50,
     "metadata": {},
     "output_type": "execute_result"
    }
   ],
   "source": [
    "class PCA:\n",
    "    def __init__(self,k_component):\n",
    "        self.mean = None\n",
    "        self.k_component = k_component\n",
    "        self.component = None\n",
    "\n",
    "    def fit(self,X):\n",
    "        #get mean\n",
    "        self.mean = np.mean(X)\n",
    "        # print(self.mean)\n",
    "        \n",
    "        #centring \n",
    "        X = X - self.mean\n",
    "        # print(X)\n",
    "        \n",
    "        #calculate the covariance, here we have to give sample as columns, but in our array we have row wise arranged it\n",
    "        covariance = np.cov(X.T)\n",
    "        # print(covariance)\n",
    "\n",
    "        #get eigen value and eigen vector of covariance matrix\n",
    "        e_values,e_vectors=np.linalg.eig(covariance)\n",
    "\n",
    "        # print(e_values)\n",
    "        #sort the eigenvalues and eigenvectors\n",
    "        idx = np.argsort(e_values)[::-1]\n",
    "        # print(idx)\n",
    "        e_values = e_values[idx]\n",
    "        e_vectors = e_vectors[idx]\n",
    "\n",
    "        # print(e_values,e_vectors)\n",
    "\n",
    "        self.component = e_vectors[:self.k_component]\n",
    "        print(self.component.shape,X.shape)\n",
    "        \n",
    "    def transform(self,X):\n",
    "        X = X-self.mean\n",
    "        projection =  np.dot(X,self.component.T)\n",
    "        print(projection)\n",
    "        return projection\n",
    "        \n",
    "    \n",
    "\n",
    "x = np.arange(1,26).reshape(5,5)\n",
    "# print(x)\n",
    "pca =PCA(1)\n",
    "\n",
    "pca.fit(x)\n",
    "pca.transform(x)"
   ]
  },
  {
   "cell_type": "code",
   "execution_count": null,
   "id": "55f0e757-9227-435a-8e0e-36aff04ec9af",
   "metadata": {},
   "outputs": [],
   "source": []
  },
  {
   "cell_type": "code",
   "execution_count": null,
   "id": "6daa4a88-8237-4081-903b-7375a9878229",
   "metadata": {},
   "outputs": [],
   "source": []
  }
 ],
 "metadata": {
  "kernelspec": {
   "display_name": "mtl_intent",
   "language": "python",
   "name": "mtl_intent"
  },
  "language_info": {
   "codemirror_mode": {
    "name": "ipython",
    "version": 3
   },
   "file_extension": ".py",
   "mimetype": "text/x-python",
   "name": "python",
   "nbconvert_exporter": "python",
   "pygments_lexer": "ipython3",
   "version": "3.9.7"
  },
  "widgets": {
   "application/vnd.jupyter.widget-state+json": {
    "state": {},
    "version_major": 2,
    "version_minor": 0
   }
  }
 },
 "nbformat": 4,
 "nbformat_minor": 5
}
