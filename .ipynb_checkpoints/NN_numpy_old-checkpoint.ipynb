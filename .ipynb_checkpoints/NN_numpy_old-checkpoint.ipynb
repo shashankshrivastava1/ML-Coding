{
 "cells": [
  {
   "cell_type": "code",
   "execution_count": 13,
   "id": "6f08e943-561e-4dd2-803f-29a410603b1c",
   "metadata": {},
   "outputs": [],
   "source": [
    "import numpy as np\n",
    "import matplotlib.pyplot as plt\n",
    "import random"
   ]
  },
  {
   "cell_type": "code",
   "execution_count": 11,
   "id": "633d0dd7-fe27-435f-b2d8-d336506ddfac",
   "metadata": {},
   "outputs": [
    {
     "name": "stdout",
     "output_type": "stream",
     "text": [
      "shape of X_train (1000, 784)\n",
      "shape of y_train (1000, 10)\n",
      "shape of X_test (350, 784)\n",
      "shape of y_test (350, 10)\n",
      "shape after transformation\n",
      "shape of X_train (784, 1000)\n",
      "shape of y_train (10, 1000)\n",
      "shape of X_test (784, 350)\n",
      "shape of y_test (10, 350)\n"
     ]
    }
   ],
   "source": [
    "x_train = np.loadtxt('data/train_X_mnist.csv',delimiter =\",\")\n",
    "y_train = np.loadtxt('data/train_label_mnist.csv',delimiter =\",\")\n",
    "\n",
    "x_test = np.loadtxt('data/test_X_mnist.csv',delimiter =\",\")\n",
    "y_test = np.loadtxt('data/test_label_mnist.csv',delimiter =\",\")\n",
    "\n",
    "print(\"shape of X_train\",x_train.shape)\n",
    "print(\"shape of y_train\",y_train.shape)\n",
    "print(\"shape of X_test\",x_test.shape)\n",
    "print(\"shape of y_test\",y_test.shape)\n",
    "#but we want it as a column vector, meaning each column is sampe\n",
    "x_train = x_train.T\n",
    "y_train = y_train.T\n",
    "x_test = x_test.T\n",
    "y_test = y_test.T\n",
    "\n",
    "print(\"shape after transformation\")\n",
    "\n",
    "print(\"shape of X_train\",x_train.shape)\n",
    "print(\"shape of y_train\",y_train.shape)\n",
    "print(\"shape of X_test\",x_test.shape)\n",
    "print(\"shape of y_test\",y_test.shape)"
   ]
  },
  {
   "cell_type": "code",
   "execution_count": 88,
   "id": "59f2c16c-b0a9-45e8-a8ad-d0a3e11d2121",
   "metadata": {},
   "outputs": [
    {
     "data": {
      "image/png": "[encoded data removed]",
      "text/plain": [
       "<Figure size 640x480 with 1 Axes>"
      ]
     },
     "metadata": {},
     "output_type": "display_data"
    },
    {
     "name": "stdout",
     "output_type": "stream",
     "text": [
      "3\n"
     ]
    }
   ],
   "source": [
    "index = random.randrange(0, x_train.shape[1])\n",
    "plt.imshow(x_train[:,index].reshape(28,28),cmap=\"gray\")\n",
    "plt.show()\n",
    "print(np.argmax(y_train[:,index]))"
   ]
  },
  {
   "cell_type": "code",
   "execution_count": 50,
   "id": "725952e4-e4b0-4dcb-8f20-b9ad349dd756",
   "metadata": {},
   "outputs": [
    {
     "data": {
      "text/plain": [
       "array([1., 0., 0., 0., 0., 0., 0., 0., 0., 0.])"
      ]
     },
     "execution_count": 50,
     "metadata": {},
     "output_type": "execute_result"
    }
   ],
   "source": [
    "y_train[:,1]"
   ]
  },
  {
   "cell_type": "code",
   "execution_count": 115,
   "id": "c3bb7710-098a-4e2e-b5ce-fcb7268931cc",
   "metadata": {},
   "outputs": [
    {
     "data": {
      "text/plain": [
       "array([[1., 1., 0.],\n",
       "       [1., 0., 1.],\n",
       "       [0., 1., 1.]], dtype=float32)"
      ]
     },
     "execution_count": 115,
     "metadata": {},
     "output_type": "execute_result"
    }
   ],
   "source": [
    "def tanh(x):\n",
    "    return np.tanh(x)\n",
    "\n",
    "def relu(x):\n",
    "    return np.maximum(x,0)\n",
    "\n",
    "def softmax(x):\n",
    "    \"input is a vector\"\n",
    "    exp = np.exp(x)\n",
    "    return exp/np.sum(exp, axis =0)#column sum\n",
    "\n",
    "def derivative_tanh(x):\n",
    "    return 1 - np.power(np.tanh(x),2)\n",
    "\n",
    "def derivative_relu(x):\n",
    "    return np.array(x>0,dtype=np.float32)\n",
    "a = np.array([[1,1,-4], [3,-5,1],[-9,8,2]])\n",
    "derivative_relu(a)        "
   ]
  },
  {
   "cell_type": "code",
   "execution_count": 393,
   "id": "ad25cb5e-eb0b-4168-ba10-6c41a5d933ce",
   "metadata": {
    "scrolled": true
   },
   "outputs": [
    {
     "name": "stdout",
     "output_type": "stream",
     "text": [
      "shape of w1 (5, 784)\n",
      "shape of b1 (5, 1)\n",
      "shape of w2 (10, 5)\n",
      "shape of b2 (10, 1)\n"
     ]
    }
   ],
   "source": [
    "def initialize_parameters(n_x, n_h, n_y):\n",
    "    \"\"\"\n",
    "    n_x: # neurons in input\n",
    "    n_h: # neurons in hidden layer\n",
    "    n_y: # neurons in output layer\n",
    "    \"\"\"\n",
    "    w1 = np.random.randn(n_h,n_x)*0.01\n",
    "    b1 = np.random.randn(n_h,1)\n",
    "\n",
    "    w2 = np.random.randn(n_y,n_h)*0.01\n",
    "    b2 = np.random.randn(n_y,1)    \n",
    "    print(\"shape of w1\",w1.shape)\n",
    "    print(\"shape of b1\",b1.shape)\n",
    "    print(\"shape of w2\",w2.shape)\n",
    "    print(\"shape of b2\",b2.shape)\n",
    "\n",
    "\n",
    "    \n",
    "    parameter={\n",
    "        \"w1\":w1,\n",
    "        \"b1\":b1,\n",
    "        \"w2\":w2,\n",
    "        \"b2\":b2\n",
    "    }\n",
    "    \n",
    "    return parameter\n",
    "    \n",
    "parameters =initialize_parameters(x_test.shape[0],5,10)\n",
    "# parameters"
   ]
  },
  {
   "cell_type": "code",
   "execution_count": 407,
   "id": "959ebed3-d8c5-4ddd-a6f7-98ee0e07713f",
   "metadata": {},
   "outputs": [
    {
     "name": "stdout",
     "output_type": "stream",
     "text": [
      "32\n",
      "(784, 9)\n"
     ]
    },
    {
     "data": {
      "text/plain": [
       "array([8, 8, 8, 8, 8, 8, 8, 8, 8], dtype=int64)"
      ]
     },
     "execution_count": 407,
     "metadata": {},
     "output_type": "execute_result"
    }
   ],
   "source": [
    "def forward_propogation(x,parameters):\n",
    "    print(x.shape)\n",
    "    w1=parameters[\"w1\"]\n",
    "    b1=parameters[\"b1\"]\n",
    "    w2=parameters[\"w2\"]\n",
    "    b2=parameters[\"b2\"]\n",
    "\n",
    "    z1 = np.dot(w1,x) +b1\n",
    "    a1 = tanh(z1)\n",
    "    z2 =np.dot(w2,a1)+b2\n",
    "    a2 = softmax(z2)\n",
    "    # print(\"shape of z1\",z1.shape)\n",
    "    # print(\"shape of a1\",a1.shape)\n",
    "    # print(\"shape of z2\",z2.shape)\n",
    "    # print(\"shape of a2\",a2.shape)\n",
    "\n",
    "    forward_cache = {\n",
    "        \"z1\":z1,\n",
    "        \"a1\":a1,\n",
    "        \"z2\":z2,\n",
    "        \"a2\":a2,\n",
    "    }\n",
    "    return forward_cache\n",
    "\n",
    "itr=np.random.randint(2,100)\n",
    "print(itr)\n",
    "np.argmax(forward_propogation(x_test[:,itr:itr+9],parameters)[\"a2\"],axis=0)"
   ]
  },
  {
   "cell_type": "code",
   "execution_count": 381,
   "id": "afb7da80-533b-41dd-91a8-2aa0e496b1a2",
   "metadata": {},
   "outputs": [],
   "source": [
    "def cost_function(a,y):\n",
    "    pass"
   ]
  },
  {
   "cell_type": "code",
   "execution_count": null,
   "id": "e882925f-06ae-4dbf-9c99-e40166dde6bc",
   "metadata": {},
   "outputs": [],
   "source": [
    "def back_propogation(x,y,parameters,forward_cache):\n",
    "    w1=parameters[\"w1\"]\n",
    "    b1=parameters[\"b1\"]\n",
    "    w2=parameters[\"w2\"]\n",
    "    b2=parameters[\"b2\"]\n",
    "\n",
    "    da"
   ]
  }
 ],
 "metadata": {
  "kernelspec": {
   "display_name": "mtl_intent",
   "language": "python",
   "name": "mtl_intent"
  },
  "language_info": {
   "codemirror_mode": {
    "name": "ipython",
    "version": 3
   },
   "file_extension": ".py",
   "mimetype": "text/x-python",
   "name": "python",
   "nbconvert_exporter": "python",
   "pygments_lexer": "ipython3",
   "version": "3.9.7"
  },
  "widgets": {
   "application/vnd.jupyter.widget-state+json": {
    "state": {},
    "version_major": 2,
    "version_minor": 0
   }
  }
 },
 "nbformat": 4,
 "nbformat_minor": 5
}
