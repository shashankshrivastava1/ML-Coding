{
 "cells": [
  {
   "cell_type": "code",
   "execution_count": 1,
   "id": "649bb8ae-818a-425d-a09c-021b7b5b8a2d",
   "metadata": {},
   "outputs": [],
   "source": [
    "import numpy as np"
   ]
  },
  {
   "cell_type": "code",
   "execution_count": 4,
   "id": "83113f6e-99aa-424d-b29b-78c4b6039e45",
   "metadata": {},
   "outputs": [],
   "source": [
    "#load data\n",
    "\n",
    "X_train = np.loadtxt('data/train_X_mnist.csv',delimiter =\",\")\n",
    "Y_train = np.loadtxt('data/train_label_mnist.csv',delimiter =\",\")\n",
    "\n",
    "X_test = np.loadtxt('data/test_X_mnist.csv',delimiter =\",\")\n",
    "Y_test = np.loadtxt('data/test_label_mnist.csv',delimiter =\",\")\n",
    "\n",
    "# print(\"shape of X_train\",X_train.shape)\n",
    "# print(\"shape of y_train\",Y_train.shape)\n",
    "# print(\"shape of X_test\",X_test.shape)\n",
    "# print(\"shape of y_test\",Y_test.shape)\n",
    "#but we want it as a column vector, meaning each column is sampe\n",
    "X_train = X_train.T\n",
    "Y_train = Y_train.T\n",
    "X_test = X_test.T\n",
    "Y_test = Y_test.T\n",
    "\n",
    "# print(\"shape after transformation\")\n",
    "\n",
    "# print(\"shape of X_train\",X_train.shape)\n",
    "# print(\"shape of y_train\",Y_train.shape)\n",
    "# print(\"shape of X_test\",X_test.shape)\n",
    "# print(\"shape of y_test\",Y_test.shape)"
   ]
  },
  {
   "cell_type": "code",
   "execution_count": 48,
   "id": "86851cae-e1c6-4623-91b6-de7a399b029b",
   "metadata": {},
   "outputs": [],
   "source": [
    "def initialize_parameter(n_x,n_h,n_y):\n",
    "    w1 = np.random.randn(n_h,n_x) * 0.01\n",
    "    b1 = np.zeros((n_h,1))\n",
    "\n",
    "    w2 = np.random.randn(n_y,n_h) * 0.01\n",
    "    b2 = np.zeros((n_y,1))\n",
    "    # print(w1.shape,b1.shape,w2.shape,b2.shape)\n",
    "    parameters={\n",
    "        \"w1\":w1,\n",
    "        \"b1\":b1,\n",
    "        \"w2\":w2,\n",
    "        \"b2\":b2\n",
    "    }\n",
    "    return w1,b1,w2,b2"
   ]
  },
  {
   "cell_type": "code",
   "execution_count": 26,
   "id": "b9f3e634-4a10-4eab-b829-280232a5fd78",
   "metadata": {},
   "outputs": [
    {
     "data": {
      "text/plain": [
       "array([[1., 0., 1.],\n",
       "       [0., 1., 0.]], dtype=float32)"
      ]
     },
     "execution_count": 26,
     "metadata": {},
     "output_type": "execute_result"
    }
   ],
   "source": [
    "#activation functions and derivatives\n",
    "def relu(x):\n",
    "    return np.maximum(x,0)\n",
    "\n",
    "def softmax(x):\n",
    "    exp = np.exp(x)\n",
    "    return exp / np.sum(exp, axis=0)\n",
    "\n",
    "def derivative_relu(x):\n",
    "     return np.array(x>0,dtype=np.float32)\n",
    "\n",
    "mat = np.array([[1,-2,5], [-9,3,0]])\n",
    "derivative_relu(mat)\n"
   ]
  },
  {
   "cell_type": "code",
   "execution_count": null,
   "id": "8b03490d-a456-4561-9334-fc91aaa1402a",
   "metadata": {},
   "outputs": [],
   "source": []
  },
  {
   "cell_type": "code",
   "execution_count": 88,
   "id": "4712cd83-178a-4dc0-af78-488711922e98",
   "metadata": {},
   "outputs": [],
   "source": [
    "def forward_propogation(x,w1,b1,w2,b2):\n",
    "    z1 = np.dot(w1,x) + b1\n",
    "    \n",
    "    a1 = relu(z1)\n",
    "    \n",
    "    z2 = np.dot(w2,a1) + b2\n",
    "    # print(\"shape of z2, before relu\",z2.shape)\n",
    "    a2 = softmax(z2)\n",
    "    # print(\"shape of a2, after relu\",a2.shape)\n",
    "    # print(\"shape inside forward\",z1.shape,a1.shape,z2.shape,a2.shape)\n",
    "    return z1,a1,z2,a2"
   ]
  },
  {
   "cell_type": "code",
   "execution_count": 108,
   "id": "28e1e83b-23fc-42cc-9309-487159baee13",
   "metadata": {},
   "outputs": [
    {
     "name": "stdout",
     "output_type": "stream",
     "text": [
      "0 0\n"
     ]
    },
    {
     "data": {
      "text/plain": [
       "0.1"
      ]
     },
     "execution_count": 108,
     "metadata": {},
     "output_type": "execute_result"
    }
   ],
   "source": [
    "def get_accuracy(y,a2):\n",
    "    true= np.argmax(y,1)\n",
    "    \n",
    "    predicted = np.argmax(a2,1)\n",
    "    print(true,predicted)\n",
    "    return np.sum(true == predicted) / y.shape[0]\n",
    "a2 = np.array([7.23698965e+06, 5.30644817e-06, 4.55831550e-02, 4.86640351e-09,\n",
    " 6.03286897e-04, 3.65957115e-04, 4.84714433e-03, 6.77089139e-01,\n",
    " 1.22941863e-03, 2.70269351e-01])\n",
    "y = np.array([1., 0., 0., 0., 0., 0., 0., 0., 0., 0.])\n",
    "get_accuracy(a2,y)"
   ]
  },
  {
   "cell_type": "code",
   "execution_count": 100,
   "id": "c8b2d347-2888-4bb4-a0c1-f807a290cc0d",
   "metadata": {},
   "outputs": [],
   "source": [
    "def backward_propogation(x,y,z1,a1,z2,a2,w1,b1,w2,b2):\n",
    "    m = y.shape[1]\n",
    "    dz2 = a2-y\n",
    "    print(a2[:,3],y[:,3])\n",
    "    dw2 = (1/m) * np.dot(dz2,a1.T)# (d(dw1) = (n_l,n_l-1) d(dz1) = (n_l,m)) d(a1) = (n_l-1,m)\n",
    "    db2 = (1/m) * np.sum(dz2, axis =1, keepdims=1)\n",
    "\n",
    "    dz1 = np.dot(w2.T, dz2) * derivative_relu(z1)\n",
    "    dw1 = (1/m) * np.dot(dz1,x.T)\n",
    "    db1 = (1/m) * np.sum(dz1, axis =1, keepdims=1)\n",
    "\n",
    "    return dw2,db2,dw1,db1"
   ]
  },
  {
   "cell_type": "code",
   "execution_count": 101,
   "id": "8daed584-ff15-41fc-ac2b-d155c13e7379",
   "metadata": {},
   "outputs": [],
   "source": [
    "def update_parameters(dw2,db2,dw1,db1,w1,b1,w2,b2,learningrate):\n",
    "    w1 = w1 - (learningrate * dw1)\n",
    "    b1 = b1 - (learningrate * db1)\n",
    "    w2 = w2 - (learningrate * dw2)\n",
    "    b2 = b2 - (learningrate * db2)    \n",
    "    return w1,b1,w2,b2"
   ]
  },
  {
   "cell_type": "code",
   "execution_count": 102,
   "id": "5e357ce8-80bf-4673-b6cc-f64847f3e3e4",
   "metadata": {},
   "outputs": [],
   "source": [
    "def model(x,y,learningrate,iterations):\n",
    "    n_x = x.shape[0]\n",
    "    n_y = y.shape[0]\n",
    "    n_h = 1000\n",
    "    print(n_y)\n",
    "    w1,b1,w2,b2 = initialize_parameter(n_x,n_h,n_y)\n",
    "    for i in range(iterations):\n",
    "        # print(w1.shape,b1.shape,w2.shape,b2.shape)\n",
    "        z1,a1,z2,a2 = forward_propogation(x,w1,b1,w2,b2)\n",
    "        accuracy = get_accuracy(y,a2)\n",
    "        print(accuracy)\n",
    "        dw2,db2,dw1,db1=backward_propogation(x,y,z1,a1,z2,a2,w1,b1,w2,b2)\n",
    "        w1,b1,w2,b2=update_parameters(dw2,db2,dw1,db1,w1,b1,w2,b2,learningrate)\n",
    "    return w1,b1,w2,b2"
   ]
  },
  {
   "cell_type": "code",
   "execution_count": 103,
   "id": "6b962a96-fbe9-4ffe-a1a1-2a286e155140",
   "metadata": {},
   "outputs": [
    {
     "name": "stdout",
     "output_type": "stream",
     "text": [
      "10\n",
      "0.0083\n",
      "[7.23698965e-06 5.30644817e-06 4.55831550e-02 4.86640351e-09\n",
      " 6.03286897e-04 3.65957115e-04 4.84714433e-03 6.77089139e-01\n",
      " 1.22941863e-03 2.70269351e-01] [1. 0. 0. 0. 0. 0. 0. 0. 0. 0.]\n"
     ]
    }
   ],
   "source": [
    "w1,b1,w2,b2 =model(X_train,Y_train,0.01,1)"
   ]
  },
  {
   "cell_type": "code",
   "execution_count": null,
   "id": "cda54780-7858-401c-ac0e-483aa070ab5d",
   "metadata": {},
   "outputs": [],
   "source": []
  }
 ],
 "metadata": {
  "kernelspec": {
   "display_name": "Python 3 (ipykernel)",
   "language": "python",
   "name": "python3"
  },
  "language_info": {
   "codemirror_mode": {
    "name": "ipython",
    "version": 3
   },
   "file_extension": ".py",
   "mimetype": "text/x-python",
   "name": "python",
   "nbconvert_exporter": "python",
   "pygments_lexer": "ipython3",
   "version": "3.9.7"
  },
  "widgets": {
   "application/vnd.jupyter.widget-state+json": {
    "state": {},
    "version_major": 2,
    "version_minor": 0
   }
  }
 },
 "nbformat": 4,
 "nbformat_minor": 5
}
