{
 "cells": [
  {
   "cell_type": "code",
   "execution_count": 4,
   "id": "8dc7224c-20a9-40b5-8a51-854c3ce3e74d",
   "metadata": {},
   "outputs": [],
   "source": [
    "import numpy as np\n",
    "sequence_length = 4\n",
    "batch_size =1\n",
    "input_dim =512\n",
    "d_model=512"
   ]
  },
  {
   "cell_type": "code",
   "execution_count": 6,
   "id": "206e7d6f-f021-44e2-a08b-7cfec782d29d",
   "metadata": {},
   "outputs": [
    {
     "data": {
      "text/plain": [
       "(1, 4, 512)"
      ]
     },
     "execution_count": 6,
     "metadata": {},
     "output_type": "execute_result"
    }
   ],
   "source": [
    "x =np.random.rand(batch_size,sequence_length,input_dim)\n",
    "x.shape"
   ]
  },
  {
   "cell_type": "code",
   "execution_count": 9,
   "id": "7eb81af6-ec1d-44ec-a2b3-5886038a1ba5",
   "metadata": {},
   "outputs": [
    {
     "data": {
      "text/plain": [
       "(512, 1536)"
      ]
     },
     "execution_count": 9,
     "metadata": {},
     "output_type": "execute_result"
    }
   ],
   "source": [
    "qkv_layer = np.random.randn(input_dim,3*d_model)\n",
    "qkv_layer.shape"
   ]
  }
 ],
 "metadata": {
  "kernelspec": {
   "display_name": "Python 3 (ipykernel)",
   "language": "python",
   "name": "python3"
  },
  "language_info": {
   "codemirror_mode": {
    "name": "ipython",
    "version": 3
   },
   "file_extension": ".py",
   "mimetype": "text/x-python",
   "name": "python",
   "nbconvert_exporter": "python",
   "pygments_lexer": "ipython3",
   "version": "3.9.7"
  },
  "widgets": {
   "application/vnd.jupyter.widget-state+json": {
    "state": {},
    "version_major": 2,
    "version_minor": 0
   }
  }
 },
 "nbformat": 4,
 "nbformat_minor": 5
}
