{
 "cells": [
  {
   "cell_type": "code",
   "execution_count": 2,
   "id": "5edc3a4a-1021-4394-b031-0e53958919cd",
   "metadata": {
    "scrolled": true
   },
   "outputs": [
    {
     "name": "stdout",
     "output_type": "stream",
     "text": [
      "(4, 8)\n"
     ]
    },
    {
     "data": {
      "text/plain": [
       "(1, 8)"
      ]
     },
     "execution_count": 2,
     "metadata": {},
     "output_type": "execute_result"
    }
   ],
   "source": [
    "import numpy as np\n",
    "d =4\n",
    "m =8\n",
    "o =2\n",
    "inputsample = np.random.randn(d,m)\n",
    "\n",
    "print(inputsample.shape)\n",
    "y = np.random.randint(0,2,m).reshape(1,-1)\n",
    "y.shape"
   ]
  },
  {
   "cell_type": "code",
   "execution_count": 3,
   "id": "daf5bd10-57ff-4fee-b217-9fc8b9088d63",
   "metadata": {
    "jupyter": {
     "source_hidden": true
    }
   },
   "outputs": [
    {
     "data": {
      "image/png": "[encoded data removed]",
      "text/plain": [
       "<Figure size 640x480 with 1 Axes>"
      ]
     },
     "metadata": {},
     "output_type": "display_data"
    }
   ],
   "source": [
    "import matplotlib.pyplot as plt\n",
    "plt.scatter(inputsample[0], inputsample[1], c=y[0])\n",
    "plt.show()"
   ]
  },
  {
   "cell_type": "code",
   "execution_count": 4,
   "id": "309a96ec-670d-4d2e-a9da-eece033a72ff",
   "metadata": {},
   "outputs": [
    {
     "data": {
      "text/plain": [
       "2"
      ]
     },
     "execution_count": 4,
     "metadata": {},
     "output_type": "execute_result"
    }
   ],
   "source": [
    "len(np.unique(y))"
   ]
  },
  {
   "cell_type": "code",
   "execution_count": 5,
   "id": "1473c1c5-0c41-4dd7-92c1-eedbe37bc4d0",
   "metadata": {},
   "outputs": [
    {
     "data": {
      "text/plain": [
       "array([[1., 1., 0.],\n",
       "       [1., 0., 0.]])"
      ]
     },
     "execution_count": 5,
     "metadata": {},
     "output_type": "execute_result"
    }
   ],
   "source": [
    "def relu(x):\n",
    "    return np.maximum(x,0)\n",
    "\n",
    "def sigmoid(x):\n",
    "    return (1 / (1 + np.exp(-x)) )\n",
    "\n",
    "def derivative_relu(x):\n",
    "    return np.array(x>0,dtype=\"float\")\n",
    "\n",
    "a = np.array([[1,2,-4],[1,0,-9]])    \n",
    "derivative_relu(a)"
   ]
  },
  {
   "cell_type": "code",
   "execution_count": 6,
   "id": "cac68882-2ff2-4041-a27f-bc2b8716c8df",
   "metadata": {},
   "outputs": [],
   "source": [
    "def initialize_parameters(n_x,n_h1,n_h2,n_y):\n",
    "    w1 = np.random.randn(n_h1,n_x) * 0.01\n",
    "    b1 = np.zeros(n_h1).reshape(-1,1)\n",
    "\n",
    "    w2 = np.random.randn(n_h2,n_h1) * 0.01\n",
    "    b2 = np.zeros(n_h2).reshape(-1,1)\n",
    "\n",
    "    w3 = np.random.randn(n_y,n_h2) * 0.01\n",
    "    b3 = np.zeros(n_y).reshape(-1,1)\n",
    "    return w1,b1,w2,b2,w3,b3\n",
    "\n",
    "def forward_propogation(x,w1,b1,w2,b2,w3,b3):\n",
    "    z1= np.matmul(w1,x) +b1 ##(200,4) (4,8) (200,8)\n",
    "    a1= relu(z1) #(200,8)\n",
    "    # print(z1.shape,a1.shape)\n",
    "    z2= np.matmul(w2,a1) +b2 ##(20,20) (200,8) (20,8)\n",
    "    a2= relu(z2) #(20,8)\n",
    "\n",
    "    z3= np.matmul(w3,a2) +b3 ##(1,20) (20,8) (1,8)\n",
    "    a3= sigmoid(z3) #(1,8)\n",
    "\n",
    "    return z1,a1,z2,a2,z3,a3    \n",
    "\n",
    "def back_propogation(x,y,z1,a1,z2,a2,z3,a3,w1,b1,w2,b2,w3,b3):\n",
    "    dz3 = a3-y #(1,8) (1,8) - (1,8)\n",
    "    dw3 = (1/m) * np.matmul(dz3,a2.T) #(1,8) (8,1) (1,1)\n",
    "    db3 = (1/m) * dz3.sum(axis=1,keepdims=True)\n",
    "\n",
    "    dz2 = np.matmul(w3.T,dz3) * derivative_relu(a2) #(1,20)T=>(20,1),(1,8)- (20,8),(20,8)\n",
    "    dw2 = (1/m) * np.matmul(dz2,a1.T) #(1,8) (8,1) (1,1)\n",
    "    db2 = (1/m) * dz2.sum(axis=1,keepdims=True)    \n",
    "\n",
    "    dz1 = np.matmul(w2.T,dz2) * derivative_relu(a1) #(1,20)T=>(20,1),(1,8)- (20,8),(20,8)\n",
    "    dw1 = (1/m) * np.matmul(dz1,x.T) #(1,8) (8,1) (1,1)\n",
    "    db1 = (1/m) * dz1.sum(axis=1,keepdims=True) \n",
    "\n",
    "    return dw1,dw2,dw3,db1,db2,db3\n",
    "\n",
    "def forward_propogation_with_dropout(x,w1,b1,w2,b2,w3,b3,keep_rate):\n",
    "    z1= np.matmul(w1,x) +b1 ##(200,4) (4,8) (200,8)\n",
    "    a1= relu(z1) #(200,8)\n",
    "    #dropout\n",
    "    d1 = np.random.randn(a1.shape[0],a1.shape[1])\n",
    "    d1 = d1 < keep_rate\n",
    "    a1 = a1*d1\n",
    "    a1 = a1/keep_rate\n",
    "    \n",
    "    z2= np.matmul(w2,a1) +b2 ##(20,20) (200,8) (20,8)\n",
    "    a2= relu(z2) #(20,8)\n",
    "    #droupout\n",
    "    d2 = d2 < keep_rate\n",
    "    a2 = a2*d2\n",
    "    a2 = a2/keep_rate\n",
    "    \n",
    "    z3= np.matmul(w3,a2) +b3 ##(1,20) (20,8) (1,8)\n",
    "    a3= sigmoid(z3) #(1,8)\n",
    "\n",
    "    return z1,a1,z2,a2,z3,a3,d1,d2    \n",
    "\n",
    "def back_propogation_with_droupout(x,y,z1,a1,z2,a2,z3,a3,w1,b1,w2,b2,w3,b3,d1,d2,keep_rate):\n",
    "    dz3 = a3-y #(1,8) (1,8) - (1,8)\n",
    "    dw3 = (1/m) * np.matmul(dz3,a2.T) #(1,8) (8,1) (1,1)\n",
    "    db3 = (1/m) * dz3.sum(axis=1,keepdims=True)\n",
    "    da2 = np.matmul(w3.T,dz3)\n",
    "    \n",
    "    da2 = da2 * d2\n",
    "    da2 = da2/keep_rate\n",
    "    \n",
    "    dz2 = da2 * derivative_relu(a2) #(1,20)T=>(20,1),(1,8)- (20,8),(20,8)\n",
    "    dw2 = (1/m) * np.matmul(dz2,a1.T) #(1,8) (8,1) (1,1)\n",
    "    db2 = (1/m) * dz2.sum(axis=1,keepdims=True)    \n",
    "\n",
    "    da1 = np.matmul(w2.T,dz2)\n",
    "    da1 = da1*d1\n",
    "    da1 = da1/keep_rate\n",
    "    dz1 = da1 * derivative_relu(a1) #(1,20)T=>(20,1),(1,8)- (20,8),(20,8)\n",
    "    dw1 = (1/m) * np.matmul(dz1,x.T) #(1,8) (8,1) (1,1)\n",
    "    db1 = (1/m) * dz1.sum(axis=1,keepdims=True) \n",
    "\n",
    "    return dw1,dw2,dw3,db1,db2,db3\n",
    "    \n",
    "def update_weights(dw1,dw2,dw3,db1,db2,db3 , w1,b1,w2,b2,w3,b3,learning_rate):\n",
    "    w1 = w1 - (learning_rate *dw1)\n",
    "    w2 = w2 - (learning_rate *dw2)\n",
    "    w3 = w3 - (learning_rate *dw3)\n",
    "    \n",
    "    b1 = b1 - (learning_rate *db1)\n",
    "    b2 = b2 - (learning_rate *db2)\n",
    "    b3 = b3 - (learning_rate *db3)\n",
    "\n",
    "    return w1,b1,w2,b2,w3,b3"
   ]
  },
  {
   "cell_type": "code",
   "execution_count": 7,
   "id": "2f1493af-c302-4eaf-a97c-d64cc31f7455",
   "metadata": {},
   "outputs": [],
   "source": [
    "learning_rate=0.01\n",
    "def model(x,y,itr,n_h1,n_h2):\n",
    "    m = x.shape[-1]\n",
    "    n_x=x.shape[0]\n",
    "    n_y=1\n",
    "    w1,b1,w2,b2,w3,b3 =initialize_parameters(n_x,n_h1,n_h2,n_y)\n",
    "\n",
    "    for i in range(100):\n",
    "        z1,a1,z2,a2,z3,a3 = forward_propogation(x,w1,b1,w2,b2,w3,b3)\n",
    "        \n",
    "        dw1,dw2,dw3,db1,db2,db3 =back_propogation(x,y,z1,a1,z2,a2,z3,a3,w1,b1,w2,b2,w3,b3)\n",
    "\n",
    "        w1,b1,w2,b2,w3,b3 =update_weights(dw1,dw2,dw3,db1,db2,db3 , w1,b1,w2,b2,w3,b3,learning_rate)\n",
    "        \n",
    "\n",
    "    \n",
    "model(inputsample,y,itr =200,n_h1=200,n_h2=20)    \n",
    "    "
   ]
  },
  {
   "cell_type": "code",
   "execution_count": null,
   "id": "cb317a79-c537-493d-8a8d-2eef8c498d7d",
   "metadata": {},
   "outputs": [],
   "source": []
  },
  {
   "cell_type": "code",
   "execution_count": null,
   "id": "153bddde-04e3-4002-8d29-8b823a52b417",
   "metadata": {},
   "outputs": [],
   "source": []
  },
  {
   "cell_type": "code",
   "execution_count": null,
   "id": "f572e25e-5588-4cc8-afc5-c005030603e6",
   "metadata": {},
   "outputs": [],
   "source": []
  }
 ],
 "metadata": {
  "kernelspec": {
   "display_name": "Python 3 (ipykernel)",
   "language": "python",
   "name": "python3"
  },
  "language_info": {
   "codemirror_mode": {
    "name": "ipython",
    "version": 3
   },
   "file_extension": ".py",
   "mimetype": "text/x-python",
   "name": "python",
   "nbconvert_exporter": "python",
   "pygments_lexer": "ipython3",
   "version": "3.9.7"
  },
  "widgets": {
   "application/vnd.jupyter.widget-state+json": {
    "state": {},
    "version_major": 2,
    "version_minor": 0
   }
  }
 },
 "nbformat": 4,
 "nbformat_minor": 5
}
