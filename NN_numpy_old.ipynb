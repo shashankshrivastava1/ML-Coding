{
 "cells": [
  {
   "cell_type": "code",
   "execution_count": 21,
   "id": "6f08e943-561e-4dd2-803f-29a410603b1c",
   "metadata": {},
   "outputs": [],
   "source": [
    "import numpy as np\n",
    "import matplotlib.pyplot as plt\n",
    "import random"
   ]
  },
  {
   "cell_type": "code",
   "execution_count": 20,
   "id": "633d0dd7-fe27-435f-b2d8-d336506ddfac",
   "metadata": {},
   "outputs": [
    {
     "name": "stdout",
     "output_type": "stream",
     "text": [
      "shape of X_train (1000, 784)\n",
      "shape of y_train (1000, 10)\n",
      "shape of X_test (350, 784)\n",
      "shape of y_test (350, 10)\n",
      "shape after transformation\n",
      "shape of X_train (784, 1000)\n",
      "shape of y_train (10, 1000)\n",
      "shape of X_test (784, 350)\n",
      "shape of y_test (10, 350)\n"
     ]
    }
   ],
   "source": [
    "x_train = np.loadtxt('data/train_X_mnist.csv',delimiter =\",\")\n",
    "y_train = np.loadtxt('data/train_label_mnist.csv',delimiter =\",\")\n",
    "\n",
    "x_test = np.loadtxt('data/test_X_mnist.csv',delimiter =\",\")\n",
    "y_test = np.loadtxt('data/test_label_mnist.csv',delimiter =\",\")\n",
    "\n",
    "print(\"shape of X_train\",x_train.shape)\n",
    "print(\"shape of y_train\",y_train.shape)\n",
    "print(\"shape of X_test\",x_test.shape)\n",
    "print(\"shape of y_test\",y_test.shape)\n",
    "#but we want it as a column vector, meaning each column is sampe\n",
    "x_train = x_train.T\n",
    "y_train = y_train.T\n",
    "x_test = x_test.T\n",
    "y_test = y_test.T\n",
    "\n",
    "print(\"shape after transformation\")\n",
    "\n",
    "print(\"shape of X_train\",x_train.shape)\n",
    "print(\"shape of y_train\",y_train.shape)\n",
    "print(\"shape of X_test\",x_test.shape)\n",
    "print(\"shape of y_test\",y_test.shape)"
   ]
  },
  {
   "cell_type": "code",
   "execution_count": 88,
   "id": "59f2c16c-b0a9-45e8-a8ad-d0a3e11d2121",
   "metadata": {},
   "outputs": [
    {
     "data": {
      "image/png": "[encoded data removed]",
      "text/plain": [
       "<Figure size 640x480 with 1 Axes>"
      ]
     },
     "metadata": {},
     "output_type": "display_data"
    },
    {
     "name": "stdout",
     "output_type": "stream",
     "text": [
      "3\n"
     ]
    }
   ],
   "source": [
    "index = random.randrange(0, x_train.shape[1])\n",
    "plt.imshow(x_train[:,index].reshape(28,28),cmap=\"gray\")\n",
    "plt.show()\n",
    "print(np.argmax(y_train[:,index]))"
   ]
  },
  {
   "cell_type": "code",
   "execution_count": 50,
   "id": "725952e4-e4b0-4dcb-8f20-b9ad349dd756",
   "metadata": {},
   "outputs": [
    {
     "data": {
      "text/plain": [
       "array([1., 0., 0., 0., 0., 0., 0., 0., 0., 0.])"
      ]
     },
     "execution_count": 50,
     "metadata": {},
     "output_type": "execute_result"
    }
   ],
   "source": [
    "y_train[:,1]"
   ]
  },
  {
   "cell_type": "code",
   "execution_count": 221,
   "id": "c3bb7710-098a-4e2e-b5ce-fcb7268931cc",
   "metadata": {},
   "outputs": [
    {
     "data": {
      "text/plain": [
       "array([[1., 1., 0.],\n",
       "       [1., 0., 1.],\n",
       "       [0., 1., 1.]], dtype=float32)"
      ]
     },
     "execution_count": 221,
     "metadata": {},
     "output_type": "execute_result"
    }
   ],
   "source": [
    "def tanh(x):\n",
    "    return np.tanh(x)\n",
    "\n",
    "def relu(x):\n",
    "    return np.maximum(x,0)\n",
    "\n",
    "def softmax(x):\n",
    "    \"input is a vector matrix\"\n",
    "    exp = np.exp(x)\n",
    "    return exp/np.sum(exp, axis =0)#column sum\n",
    "\n",
    "def derivative_tanh(x):\n",
    "    return 1 - np.power(np.tanh(x),2)\n",
    "\n",
    "def derivative_relu(x):\n",
    "    return np.array(x>0,dtype=np.float32)\n",
    "a = np.array([[1,1,-4], [3,-5,1],[-9,8,2]])\n",
    "derivative_relu(a)        "
   ]
  },
  {
   "cell_type": "code",
   "execution_count": 266,
   "id": "ad25cb5e-eb0b-4168-ba10-6c41a5d933ce",
   "metadata": {
    "scrolled": true
   },
   "outputs": [
    {
     "name": "stdout",
     "output_type": "stream",
     "text": [
      "shape of w1 (1000, 784)\n",
      "shape of b1 (1000, 1)\n",
      "shape of w2 (1000, 1000)\n",
      "shape of b2 (1000, 1)\n",
      "(1000, 784) (1000, 1) (1000, 1000) (1000, 1)\n"
     ]
    },
    {
     "data": {
      "text/plain": [
       "''"
      ]
     },
     "execution_count": 266,
     "metadata": {},
     "output_type": "execute_result"
    }
   ],
   "source": [
    "def initialize_parameters(n_x, n_h, n_y):\n",
    "    \"\"\"\n",
    "    n_x: # neurons in input\n",
    "    n_h: # neurons in hidden layer\n",
    "    n_y: # neurons in output layer\n",
    "    \"\"\"\n",
    "    w1 = np.random.randn(n_h,n_x)*0.01\n",
    "    b1 = np.zeros((n_h,1))\n",
    "\n",
    "    w2 = np.random.randn(n_y,n_h)*0.01\n",
    "    b2 = np.zeros((n_y,1)    )\n",
    "    print(\"shape of w1\",w1.shape)\n",
    "    print(\"shape of b1\",b1.shape)\n",
    "    print(\"shape of w2\",w2.shape)\n",
    "    print(\"shape of b2\",b2.shape)\n",
    "\n",
    "    print(w1.shape,b1.shape,w2.shape,b2.shape)\n",
    "    \n",
    "    parameter={\n",
    "        \"w1\":w1,\n",
    "        \"b1\":b1,\n",
    "        \"w2\":w2,\n",
    "        \"b2\":b2\n",
    "    }\n",
    "    \n",
    "    return parameter\n",
    "    "
   ]
  },
  {
   "cell_type": "code",
   "execution_count": 407,
   "id": "959ebed3-d8c5-4ddd-a6f7-98ee0e07713f",
   "metadata": {},
   "outputs": [
    {
     "name": "stdout",
     "output_type": "stream",
     "text": [
      "32\n",
      "(784, 9)\n"
     ]
    },
    {
     "data": {
      "text/plain": [
       "array([8, 8, 8, 8, 8, 8, 8, 8, 8], dtype=int64)"
      ]
     },
     "execution_count": 407,
     "metadata": {},
     "output_type": "execute_result"
    }
   ],
   "source": [
    "def forward_propogation(x,parameters):\n",
    "    print(x.shape)\n",
    "    w1=parameters[\"w1\"]\n",
    "    b1=parameters[\"b1\"]\n",
    "    w2=parameters[\"w2\"]\n",
    "    b2=parameters[\"b2\"]\n",
    "\n",
    "    z1 = np.dot(w1,x) +b1\n",
    "    a1 = tanh(z1)\n",
    "    z2 =np.dot(w2,a1)+b2\n",
    "    a2 = softmax(z2)\n",
    "    # print(\"shape of z1\",z1.shape)\n",
    "    # print(\"shape of a1\",a1.shape)\n",
    "    # print(\"shape of z2\",z2.shape)\n",
    "    # print(\"shape of a2\",a2.shape)\n",
    "\n",
    "    forward_cache = {\n",
    "        \"z1\":z1,\n",
    "        \"a1\":a1,\n",
    "        \"z2\":z2,\n",
    "        \"a2\":a2,\n",
    "    }\n",
    "    return forward_cache\n",
    "\n",
    "itr=np.random.randint(2,100)\n",
    "print(itr)\n",
    "np.argmax(forward_propogation(x_test[:,itr:itr+9],parameters)[\"a2\"],axis=0)"
   ]
  },
  {
   "cell_type": "code",
   "execution_count": 381,
   "id": "afb7da80-533b-41dd-91a8-2aa0e496b1a2",
   "metadata": {},
   "outputs": [],
   "source": [
    "def cost_function(a,y):\n",
    "    pass"
   ]
  },
  {
   "cell_type": "code",
   "execution_count": null,
   "id": "e882925f-06ae-4dbf-9c99-e40166dde6bc",
   "metadata": {},
   "outputs": [],
   "source": [
    "def back_propogation(x,y,parameters,forward_cache):\n",
    "    w1=parameters[\"w1\"]\n",
    "    b1=parameters[\"b1\"]\n",
    "    w2=parameters[\"w2\"]\n",
    "    b2=parameters[\"b2\"]\n",
    "\n",
    "    a1 = forward_cache[\"a1\"]\n",
    "    a2 = forward_cache[\"a2\"]\n",
    "    \n",
    "    # number of samples\n",
    "    m= x.shape[1]\n",
    "    \n",
    "    dz2 = a2 - y\n",
    "    dw2 = 1/m * np.dot(dz2,a1.T)\n",
    "    db1 = 1/m * np.sum(dz2,axis =1,keepdims=True)\n",
    "\n",
    "    dz1 = np\n",
    "    \n",
    "\n",
    "    "
   ]
  },
  {
   "cell_type": "code",
   "execution_count": 162,
   "id": "7ead2657-e4ac-4997-96ed-78c3e2d54893",
   "metadata": {},
   "outputs": [],
   "source": [
    "import numpy as np"
   ]
  },
  {
   "cell_type": "code",
   "execution_count": 203,
   "id": "f54db25a-5c76-4ac8-841e-97e2cacc1d3c",
   "metadata": {},
   "outputs": [],
   "source": [
    "def initialize_parameters(n_x,n_h,n_y):\n",
    "    w1 = np.random.randn(n_h,n_x) * 0.01\n",
    "    b1 = np.zeros((n_h,1))#.reshape(-1,1)\n",
    "    \n",
    "    w2 = np.random.randn(n_y,n_h) * 0.01\n",
    "    b2 = np.zeros((n_y,1))#.reshape(-1,1)\n",
    "    print(b1.shape,b2.shape)\n",
    "    parameters ={\n",
    "        \"w1\" : w1,\n",
    "        \"b1\" : b1,\n",
    "        \"w2\" : w2,\n",
    "        \"b2\" : b2\n",
    "    }\n",
    "    return parameters\n",
    "# initialize_parameters(3,5,7)"
   ]
  },
  {
   "cell_type": "code",
   "execution_count": 240,
   "id": "b245d1fb-a144-43ee-92da-7b9429f9ae54",
   "metadata": {},
   "outputs": [
    {
     "name": "stdout",
     "output_type": "stream",
     "text": [
      "[[1 3 4]\n",
      " [1 0 0]]\n"
     ]
    }
   ],
   "source": [
    "def relu(x):\n",
    "    return np.maximum(0,x)\n",
    "\n",
    "def sigmoid(x):\n",
    "    return (1 / ( 1 + np.exp(-x)) )\n",
    "\n",
    "def derivative_sigmoid(x):\n",
    "    a = (1 / ( 1 + np.exp(-x)) )\n",
    "    return a * (1-a)\n",
    "\n",
    "def derivative_relu(x):\n",
    "    k = x>0\n",
    "    return np.array(k,dtype=np.float16)\n",
    "    \n",
    "\n",
    "def softmax(x):\n",
    "    inpexp = np.exp(x)\n",
    "    return np.array(inpexp / np.sum(inpexp , axis =0))\n",
    "\n",
    "\n",
    "mat = np.array([[1,3,4],[1,0,-1]])\n",
    "vect = np.array([3,0,0,4,-1])\n",
    "\n",
    "print(relu(mat))"
   ]
  },
  {
   "cell_type": "code",
   "execution_count": 211,
   "id": "80dd7675-7268-4cf3-8685-851bcf2879a3",
   "metadata": {},
   "outputs": [],
   "source": [
    "def forward_pass(parameters,x):\n",
    "    z1 = np.dot(parameters[\"w1\"],x) +parameters[\"b1\"]\n",
    "    a1 = relu(z1)\n",
    "\n",
    "    z2 = np.dot(parameters[\"w2\"],a1) + parameters[\"b2\"]\n",
    "    a2 = softmax(z2)\n",
    "\n",
    "    activations={\n",
    "        \"a1\":a1,\n",
    "        \"z1\":z1,\n",
    "        \"z2\":z2,\n",
    "        \"a2\":a2\n",
    "    }\n",
    "    return activations"
   ]
  },
  {
   "cell_type": "code",
   "execution_count": 241,
   "id": "89ad0ee3-0de5-486f-aa39-e724ace34021",
   "metadata": {},
   "outputs": [],
   "source": [
    "def back_propogation(activations,y,parameters,x):\n",
    "    m = y.shape[1]\n",
    "    w1 = parameters['w1']\n",
    "    b1 = parameters['b1']\n",
    "    w2 = parameters['w2']\n",
    "    b2 = parameters['b2']\n",
    "    \n",
    "    a1 = activations['a1']\n",
    "    a2 = activations['a2']    \n",
    "    \n",
    "    dz2 = (a2 - y)\n",
    "    \n",
    "    dw2 = (1/m) * np.dot(dz2 , a1.T)\n",
    "    db2 = (1/m) * np.sum(dz2, axis=1,keepdims=True)    \n",
    "    \n",
    "    dz1 =  np.multiply(np.dot(parameters[\"w2\"].T, dz2) , derivative_relu(activations[\"a1\"]))\n",
    "    dw1 = (1/m) * np.dot(dz1, x.T)\n",
    "    db1 = (1/m) * np.sum(dz1, axis =1,keepdims = True)\n",
    "\n",
    "    gradients = {\n",
    "        \"dw1\":dw1,\n",
    "        \"db1\":db1,\n",
    "        \"dw2\":dw2,\n",
    "        \"db2\":db2\n",
    "    }\n",
    "    return gradients\n"
   ]
  },
  {
   "cell_type": "code",
   "execution_count": 251,
   "id": "ddef88c2-6daa-4618-9366-d84e628ee55e",
   "metadata": {},
   "outputs": [],
   "source": [
    "def update_weights(parameters,gradients,learning_rate):\n",
    "    new_parameters={}\n",
    "    new_parameters[\"w1\"] = parameters[\"w1\"] - (learning_rate * gradients[\"dw1\"])\n",
    "    new_parameters[\"b1\"] = parameters[\"b1\"] - (learning_rate * gradients[\"db1\"])\n",
    "    new_parameters[\"w2\"] = parameters[\"w2\"] - (learning_rate * gradients[\"dw2\"])\n",
    "    new_parameters[\"b2\"] = parameters[\"b2\"] - (learning_rate * gradients[\"db2\"])\n",
    "    # print(new_parameters)\n",
    "    return new_parameters"
   ]
  },
  {
   "cell_type": "code",
   "execution_count": 243,
   "id": "b30e8d11-cb36-484b-a621-5d224278cbb1",
   "metadata": {},
   "outputs": [],
   "source": [
    "def cost_function(a2, y):\n",
    "    m = y.shape[1]\n",
    "    \n",
    "    cost = -(1/m)*np.sum(y*np.log(a2))\n",
    "    \n",
    "    #cost = -(1/m)*np.sum(np.sum(y*np.log(a2, 0), 1))\n",
    "    \n",
    "    return cost"
   ]
  },
  {
   "cell_type": "code",
   "execution_count": 259,
   "id": "1a3a8115-a82b-40f7-ad29-6cfcbf03edd7",
   "metadata": {
    "scrolled": true
   },
   "outputs": [
    {
     "name": "stdout",
     "output_type": "stream",
     "text": [
      "(1000, 1) (10, 1)\n",
      "Cost after 0 iterations is : 9.664651154459918\n"
     ]
    },
    {
     "name": "stderr",
     "output_type": "stream",
     "text": [
      "C:\\Users\\shashan3\\AppData\\Local\\Temp\\ipykernel_23188\\3742131522.py:17: RuntimeWarning: overflow encountered in exp\n",
      "  inpexp = np.exp(x)\n",
      "C:\\Users\\shashan3\\AppData\\Local\\Temp\\ipykernel_23188\\3742131522.py:18: RuntimeWarning: invalid value encountered in divide\n",
      "  return np.array(inpexp / np.sum(inpexp , axis =0))\n",
      "C:\\Users\\shashan3\\AppData\\Local\\Temp\\ipykernel_23188\\3109207080.py:4: RuntimeWarning: divide by zero encountered in log\n",
      "  cost = -(1/m)*np.sum(y*np.log(a2))\n",
      "C:\\Users\\shashan3\\AppData\\Local\\Temp\\ipykernel_23188\\3109207080.py:4: RuntimeWarning: invalid value encountered in multiply\n",
      "  cost = -(1/m)*np.sum(y*np.log(a2))\n"
     ]
    },
    {
     "name": "stdout",
     "output_type": "stream",
     "text": [
      "Cost after 10 iterations is : nan\n",
      "Cost after 20 iterations is : nan\n",
      "Cost after 30 iterations is : nan\n",
      "Cost after 40 iterations is : nan\n",
      "Cost after 50 iterations is : nan\n",
      "Cost after 60 iterations is : nan\n",
      "Cost after 70 iterations is : nan\n",
      "Cost after 80 iterations is : nan\n",
      "Cost after 90 iterations is : nan\n"
     ]
    }
   ],
   "source": [
    "\n",
    "def model(x,y,iterations=100):\n",
    "    n_x = x.shape[0]\n",
    "    n_y = y.shape[0]\n",
    "    n_h = 1000\n",
    "    iterations=100\n",
    "    parameters = initialize_parameters(n_x,n_h,n_y)\n",
    "    for i in range(iterations):\n",
    "        activations = forward_pass(parameters,x)\n",
    "        cost = cost_function(activations['a2'], y)\n",
    "        gradients = back_propogation(activations,y,parameters,x)\n",
    "        parameters = update_weights(parameters, gradients,0.01)      \n",
    "        if(i%(iterations/10) == 0):\n",
    "            # print(parameters)\n",
    "            print(\"Cost after\", i, \"iterations is :\", cost)     \n",
    "    return parameters\n",
    "parameters =model(x_train,y_train)"
   ]
  },
  {
   "cell_type": "code",
   "execution_count": 155,
   "id": "7038d3af-034e-4ccc-813b-f9df65515df4",
   "metadata": {
    "collapsed": true,
    "jupyter": {
     "outputs_hidden": true,
     "source_hidden": true
    }
   },
   "outputs": [
    {
     "data": {
      "text/plain": [
       "1"
      ]
     },
     "execution_count": 155,
     "metadata": {},
     "output_type": "execute_result"
    },
    {
     "data": {
      "image/png": "[encoded data removed]",
      "text/plain": [
       "<Figure size 640x480 with 1 Axes>"
      ]
     },
     "metadata": {},
     "output_type": "display_data"
    }
   ],
   "source": [
    "index = np.random.randint(2,777)\n",
    "plt.imshow(x_train[:,index].reshape(28,28),cmap=\"grey\")\n",
    "np.argmax(y_train[:,index])\n"
   ]
  },
  {
   "cell_type": "code",
   "execution_count": 263,
   "id": "ddb83cd2-dc52-405b-bfd2-e579ad9b8d1c",
   "metadata": {},
   "outputs": [],
   "source": [
    "def accuracy(inp, labels, parameters):\n",
    "    forward_cache = forward_pass(inp, parameters)\n",
    "    a_out = forward_cache['a2']   # containes propabilities with shape(10, 1)\n",
    "    \n",
    "    a_out = np.argmax(a_out, 0)  # 0 represents row wise \n",
    "    \n",
    "    labels = np.argmax(labels, 0)\n",
    "    \n",
    "    acc = np.mean(a_out == labels)*100\n",
    "    \n",
    "    return acc"
   ]
  },
  {
   "cell_type": "code",
   "execution_count": 264,
   "id": "9c5f1cd7-431a-4ade-bbcd-8a79c6af092c",
   "metadata": {},
   "outputs": [
    {
     "ename": "IndexError",
     "evalue": "only integers, slices (`:`), ellipsis (`...`), numpy.newaxis (`None`) and integer or boolean arrays are valid indices",
     "output_type": "error",
     "traceback": [
      "\u001b[1;31m---------------------------------------------------------------------------\u001b[0m",
      "\u001b[1;31mIndexError\u001b[0m                                Traceback (most recent call last)",
      "Cell \u001b[1;32mIn[264], line 1\u001b[0m\n\u001b[1;32m----> 1\u001b[0m \u001b[38;5;28mprint\u001b[39m(\u001b[38;5;124m\"\u001b[39m\u001b[38;5;124mAccuracy of Train Dataset\u001b[39m\u001b[38;5;124m\"\u001b[39m, \u001b[43maccuracy\u001b[49m\u001b[43m(\u001b[49m\u001b[43mx_train\u001b[49m\u001b[43m,\u001b[49m\u001b[43m \u001b[49m\u001b[43mx_train\u001b[49m\u001b[43m,\u001b[49m\u001b[43m \u001b[49m\u001b[43mparameters\u001b[49m\u001b[43m)\u001b[49m, \u001b[38;5;124m\"\u001b[39m\u001b[38;5;124m%\u001b[39m\u001b[38;5;124m\"\u001b[39m)\n\u001b[0;32m      2\u001b[0m \u001b[38;5;28mprint\u001b[39m(\u001b[38;5;124m\"\u001b[39m\u001b[38;5;124mAccuracy of Test Dataset\u001b[39m\u001b[38;5;124m\"\u001b[39m, \u001b[38;5;28mround\u001b[39m(accuracy(x_test, y_test, parameters), \u001b[38;5;241m2\u001b[39m), \u001b[38;5;124m\"\u001b[39m\u001b[38;5;124m%\u001b[39m\u001b[38;5;124m\"\u001b[39m)\n",
      "Cell \u001b[1;32mIn[263], line 2\u001b[0m, in \u001b[0;36maccuracy\u001b[1;34m(inp, labels, parameters)\u001b[0m\n\u001b[0;32m      1\u001b[0m \u001b[38;5;28;01mdef\u001b[39;00m \u001b[38;5;21maccuracy\u001b[39m(inp, labels, parameters):\n\u001b[1;32m----> 2\u001b[0m     forward_cache \u001b[38;5;241m=\u001b[39m \u001b[43mforward_pass\u001b[49m\u001b[43m(\u001b[49m\u001b[43minp\u001b[49m\u001b[43m,\u001b[49m\u001b[43m \u001b[49m\u001b[43mparameters\u001b[49m\u001b[43m)\u001b[49m\n\u001b[0;32m      3\u001b[0m     a_out \u001b[38;5;241m=\u001b[39m forward_cache[\u001b[38;5;124m'\u001b[39m\u001b[38;5;124ma2\u001b[39m\u001b[38;5;124m'\u001b[39m]   \u001b[38;5;66;03m# containes propabilities with shape(10, 1)\u001b[39;00m\n\u001b[0;32m      5\u001b[0m     a_out \u001b[38;5;241m=\u001b[39m np\u001b[38;5;241m.\u001b[39margmax(a_out, \u001b[38;5;241m0\u001b[39m)  \u001b[38;5;66;03m# 0 represents row wise \u001b[39;00m\n",
      "Cell \u001b[1;32mIn[211], line 2\u001b[0m, in \u001b[0;36mforward_pass\u001b[1;34m(parameters, x)\u001b[0m\n\u001b[0;32m      1\u001b[0m \u001b[38;5;28;01mdef\u001b[39;00m \u001b[38;5;21mforward_pass\u001b[39m(parameters,x):\n\u001b[1;32m----> 2\u001b[0m     z1 \u001b[38;5;241m=\u001b[39m np\u001b[38;5;241m.\u001b[39mdot(\u001b[43mparameters\u001b[49m\u001b[43m[\u001b[49m\u001b[38;5;124;43m\"\u001b[39;49m\u001b[38;5;124;43mw1\u001b[39;49m\u001b[38;5;124;43m\"\u001b[39;49m\u001b[43m]\u001b[49m,x) \u001b[38;5;241m+\u001b[39mparameters[\u001b[38;5;124m\"\u001b[39m\u001b[38;5;124mb1\u001b[39m\u001b[38;5;124m\"\u001b[39m]\n\u001b[0;32m      3\u001b[0m     a1 \u001b[38;5;241m=\u001b[39m relu(z1)\n\u001b[0;32m      5\u001b[0m     z2 \u001b[38;5;241m=\u001b[39m np\u001b[38;5;241m.\u001b[39mdot(parameters[\u001b[38;5;124m\"\u001b[39m\u001b[38;5;124mw2\u001b[39m\u001b[38;5;124m\"\u001b[39m],a1) \u001b[38;5;241m+\u001b[39m parameters[\u001b[38;5;124m\"\u001b[39m\u001b[38;5;124mb2\u001b[39m\u001b[38;5;124m\"\u001b[39m]\n",
      "\u001b[1;31mIndexError\u001b[0m: only integers, slices (`:`), ellipsis (`...`), numpy.newaxis (`None`) and integer or boolean arrays are valid indices"
     ]
    }
   ],
   "source": [
    "print(\"Accuracy of Train Dataset\", accuracy(x_train, x_train, parameters), \"%\")\n",
    "print(\"Accuracy of Test Dataset\", round(accuracy(x_test, y_test, parameters), 2), \"%\")"
   ]
  },
  {
   "cell_type": "code",
   "execution_count": null,
   "id": "681666e7-c14b-44c0-8dee-9911959f0f50",
   "metadata": {},
   "outputs": [],
   "source": []
  }
 ],
 "metadata": {
  "kernelspec": {
   "display_name": "mtl_intent",
   "language": "python",
   "name": "mtl_intent"
  },
  "language_info": {
   "codemirror_mode": {
    "name": "ipython",
    "version": 3
   },
   "file_extension": ".py",
   "mimetype": "text/x-python",
   "name": "python",
   "nbconvert_exporter": "python",
   "pygments_lexer": "ipython3",
   "version": "3.9.7"
  },
  "widgets": {
   "application/vnd.jupyter.widget-state+json": {
    "state": {},
    "version_major": 2,
    "version_minor": 0
   }
  }
 },
 "nbformat": 4,
 "nbformat_minor": 5
}
